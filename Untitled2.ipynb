{
 "cells": [
  {
   "cell_type": "code",
   "execution_count": 1,
   "metadata": {},
   "outputs": [
    {
     "name": "stdout",
     "output_type": "stream",
     "text": [
      "Collecting mkdocs-material\n",
      "  Using cached mkdocs_material-4.6.3-py2.py3-none-any.whl (723 kB)\n",
      "Requirement already satisfied: mkdocs>=1.0 in /Users/gerrychattman/anaconda3/envs/my_notebook_env/lib/python3.7/site-packages (from mkdocs-material) (1.1)\n",
      "Requirement already satisfied: Pygments>=2.4 in /Users/gerrychattman/anaconda3/envs/my_notebook_env/lib/python3.7/site-packages (from mkdocs-material) (2.5.2)\n",
      "Collecting pymdown-extensions>=6.3\n",
      "  Using cached pymdown_extensions-6.3-py2.py3-none-any.whl (198 kB)\n",
      "Requirement already satisfied: markdown>=3.2 in /Users/gerrychattman/anaconda3/envs/my_notebook_env/lib/python3.7/site-packages (from mkdocs-material) (3.2.1)\n",
      "Requirement already satisfied: tornado>=5.0 in /Users/gerrychattman/anaconda3/envs/my_notebook_env/lib/python3.7/site-packages (from mkdocs>=1.0->mkdocs-material) (6.0.3)\n",
      "Requirement already satisfied: livereload>=2.5.1 in /Users/gerrychattman/anaconda3/envs/my_notebook_env/lib/python3.7/site-packages (from mkdocs>=1.0->mkdocs-material) (2.6.1)\n",
      "Requirement already satisfied: lunr[languages]==0.5.6 in /Users/gerrychattman/anaconda3/envs/my_notebook_env/lib/python3.7/site-packages (from mkdocs>=1.0->mkdocs-material) (0.5.6)\n",
      "Requirement already satisfied: Jinja2>=2.10.1 in /Users/gerrychattman/anaconda3/envs/my_notebook_env/lib/python3.7/site-packages (from mkdocs>=1.0->mkdocs-material) (2.11.1)\n",
      "Requirement already satisfied: click>=3.3 in /Users/gerrychattman/anaconda3/envs/my_notebook_env/lib/python3.7/site-packages (from mkdocs>=1.0->mkdocs-material) (7.0)\n",
      "Requirement already satisfied: PyYAML>=3.10 in /Users/gerrychattman/anaconda3/envs/my_notebook_env/lib/python3.7/site-packages (from mkdocs>=1.0->mkdocs-material) (5.3)\n",
      "Requirement already satisfied: setuptools>=36 in /Users/gerrychattman/anaconda3/envs/my_notebook_env/lib/python3.7/site-packages (from markdown>=3.2->mkdocs-material) (45.2.0.post20200210)\n",
      "Requirement already satisfied: six in /Users/gerrychattman/anaconda3/envs/my_notebook_env/lib/python3.7/site-packages (from livereload>=2.5.1->mkdocs>=1.0->mkdocs-material) (1.14.0)\n",
      "Requirement already satisfied: future>=0.16.0 in /Users/gerrychattman/anaconda3/envs/my_notebook_env/lib/python3.7/site-packages (from lunr[languages]==0.5.6->mkdocs>=1.0->mkdocs-material) (0.18.2)\n",
      "Requirement already satisfied: nltk>=3.2.5; extra == \"languages\" in /Users/gerrychattman/anaconda3/envs/my_notebook_env/lib/python3.7/site-packages (from lunr[languages]==0.5.6->mkdocs>=1.0->mkdocs-material) (3.4.5)\n",
      "Requirement already satisfied: MarkupSafe>=0.23 in /Users/gerrychattman/anaconda3/envs/my_notebook_env/lib/python3.7/site-packages (from Jinja2>=2.10.1->mkdocs>=1.0->mkdocs-material) (1.1.1)\n",
      "Installing collected packages: pymdown-extensions, mkdocs-material\n",
      "Successfully installed mkdocs-material-4.6.3 pymdown-extensions-6.3\n",
      "Note: you may need to restart the kernel to use updated packages.\n"
     ]
    }
   ],
   "source": [
    "pip install mkdocs-material"
   ]
  },
  {
   "cell_type": "code",
   "execution_count": 8,
   "metadata": {},
   "outputs": [
    {
     "name": "stdout",
     "output_type": "stream",
     "text": [
      "Requirement already satisfied: pymdown-extensions in /Users/gerrychattman/anaconda3/envs/my_notebook_env/lib/python3.7/site-packages (6.3)\n",
      "Requirement already satisfied: Markdown>=3.2 in /Users/gerrychattman/anaconda3/envs/my_notebook_env/lib/python3.7/site-packages (from pymdown-extensions) (3.2.1)\n",
      "Requirement already satisfied: setuptools>=36 in /Users/gerrychattman/anaconda3/envs/my_notebook_env/lib/python3.7/site-packages (from Markdown>=3.2->pymdown-extensions) (45.2.0.post20200210)\n",
      "Note: you may need to restart the kernel to use updated packages.\n"
     ]
    }
   ],
   "source": [
    "pip install pymdown-extensions"
   ]
  },
  {
   "cell_type": "code",
   "execution_count": 9,
   "metadata": {},
   "outputs": [
    {
     "name": "stdout",
     "output_type": "stream",
     "text": [
      "Requirement already satisfied: Pygments in /Users/gerrychattman/anaconda3/envs/my_notebook_env/lib/python3.7/site-packages (2.5.2)\n",
      "Note: you may need to restart the kernel to use updated packages.\n"
     ]
    }
   ],
   "source": [
    "pip install Pygments\n"
   ]
  },
  {
   "cell_type": "code",
   "execution_count": 12,
   "metadata": {},
   "outputs": [],
   "source": [
    "import markdown\n",
    "md = markdown.Markdown(extensions=['pymdownx.inlinehilite'])"
   ]
  },
  {
   "cell_type": "markdown",
   "metadata": {},
   "source": [
    "Here is some code: `#!js function pad(v){return ('0'+v).split('').reverse().splice(0,2).reverse().join('')}`.\n",
    "\n",
    "The mock shebang will be treated like text here: ` #!js var test = 0; `."
   ]
  },
  {
   "cell_type": "markdown",
   "metadata": {},
   "source": [
    "#!js var test = 0"
   ]
  },
  {
   "cell_type": "markdown",
   "metadata": {},
   "source": [
    "$$p(x|y) = \\frac{p(y|x)p(x)}{p(y)}$$"
   ]
  },
  {
   "cell_type": "markdown",
   "metadata": {},
   "source": [
    "<hr>"
   ]
  },
  {
   "cell_type": "markdown",
   "metadata": {},
   "source": [
    "$\\&sum;$"
   ]
  },
  {
   "cell_type": "markdown",
   "metadata": {},
   "source": [
    "$\\sqrt{k}$\n",
    "\n"
   ]
  },
  {
   "cell_type": "markdown",
   "metadata": {},
   "source": [
    "```Python\n",
    "str = \"This is block level code\"\n",
    "print(str)\n",
    "```"
   ]
  },
  {
   "cell_type": "markdown",
   "metadata": {},
   "source": []
  },
  {
   "cell_type": "code",
   "execution_count": null,
   "metadata": {},
   "outputs": [],
   "source": []
  }
 ],
 "metadata": {
  "kernelspec": {
   "display_name": "Python 3",
   "language": "python",
   "name": "python3"
  },
  "language_info": {
   "codemirror_mode": {
    "name": "ipython",
    "version": 3
   },
   "file_extension": ".py",
   "mimetype": "text/x-python",
   "name": "python",
   "nbconvert_exporter": "python",
   "pygments_lexer": "ipython3",
   "version": "3.7.6"
  }
 },
 "nbformat": 4,
 "nbformat_minor": 4
}
