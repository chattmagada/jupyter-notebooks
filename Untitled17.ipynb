{
 "cells": [
  {
   "cell_type": "code",
   "execution_count": 8,
   "metadata": {},
   "outputs": [
    {
     "name": "stdout",
     "output_type": "stream",
     "text": [
      "[Errno 2] No such file or directory: 'my_env/'\n",
      "/Users/gerrychattman/my_env\n"
     ]
    }
   ],
   "source": [
    "cd my_env/"
   ]
  },
  {
   "cell_type": "code",
   "execution_count": 5,
   "metadata": {},
   "outputs": [
    {
     "name": "stdout",
     "output_type": "stream",
     "text": [
      "Collecting git+https://github.com/uclmr/egal.git\n",
      "  Cloning https://github.com/uclmr/egal.git to /private/var/folders/yk/lb49b35n6v1_h5rxf4dk2wg00000gn/T/pip-req-build-9g6oy995\n",
      "  Running command git clone -q https://github.com/uclmr/egal.git /private/var/folders/yk/lb49b35n6v1_h5rxf4dk2wg00000gn/T/pip-req-build-9g6oy995\n",
      "Requirement already satisfied (use --upgrade to upgrade): egal==0.1.4 from git+https://github.com/uclmr/egal.git in /Library/Frameworks/Python.framework/Versions/3.7/lib/python3.7/site-packages\n",
      "Building wheels for collected packages: egal\n",
      "  Building wheel for egal (setup.py) ... \u001b[?25ldone\n",
      "\u001b[?25h  Created wheel for egal: filename=egal-0.1.4-py3-none-any.whl size=452471 sha256=151ba99cfa10054bb578de5539a017cf36fb7d2b29ff7027a86cbbfb4c53de1e\n",
      "  Stored in directory: /private/var/folders/yk/lb49b35n6v1_h5rxf4dk2wg00000gn/T/pip-ephem-wheel-cache-6woktcgt/wheels/e9/fa/b0/283f99434ef1ae1c544e0940e331245b9e44ba843fba6eeb67\n",
      "Successfully built egal\n",
      "Note: you may need to restart the kernel to use updated packages.\n"
     ]
    }
   ],
   "source": [
    "pip install git+https://github.com/uclmr/egal.git"
   ]
  },
  {
   "cell_type": "code",
   "execution_count": 9,
   "metadata": {},
   "outputs": [
    {
     "name": "stdout",
     "output_type": "stream",
     "text": [
      "Requirement already satisfied: egal in /Library/Frameworks/Python.framework/Versions/3.7/lib/python3.7/site-packages (0.1.4)\n",
      "Note: you may need to restart the kernel to use updated packages.\n"
     ]
    }
   ],
   "source": [
    "pip install egal"
   ]
  },
  {
   "cell_type": "code",
   "execution_count": 10,
   "metadata": {},
   "outputs": [
    {
     "data": {
      "text/plain": [
       "'/Users/gerrychattman/my_env'"
      ]
     },
     "execution_count": 10,
     "metadata": {},
     "output_type": "execute_result"
    }
   ],
   "source": [
    "pwd"
   ]
  },
  {
   "cell_type": "code",
   "execution_count": 19,
   "metadata": {},
   "outputs": [
    {
     "name": "stdout",
     "output_type": "stream",
     "text": [
      "\n",
      "Usage:   \n",
      "  /Library/Frameworks/Python.framework/Versions/3.7/bin/python3 -m pip install [options] <requirement specifier> [package-index-options] ...\n",
      "  /Library/Frameworks/Python.framework/Versions/3.7/bin/python3 -m pip install [options] -r <requirements file> [package-index-options] ...\n",
      "  /Library/Frameworks/Python.framework/Versions/3.7/bin/python3 -m pip install [options] [-e] <vcs project url> ...\n",
      "  /Library/Frameworks/Python.framework/Versions/3.7/bin/python3 -m pip install [options] [-e] <local project path> ...\n",
      "  /Library/Frameworks/Python.framework/Versions/3.7/bin/python3 -m pip install [options] <archive url/path> ...\n",
      "\n",
      "ambiguous option: --py (--pypi-url, --python-version?)\n",
      "Note: you may need to restart the kernel to use updated packages.\n"
     ]
    }
   ],
   "source": [
    "pip install jupyter-serverextension --py http://localhost:8888/files/draw.html"
   ]
  },
  {
   "cell_type": "code",
   "execution_count": 15,
   "metadata": {},
   "outputs": [
    {
     "name": "stdout",
     "output_type": "stream",
     "text": [
      "\n",
      "Usage:   \n",
      "  /Library/Frameworks/Python.framework/Versions/3.7/bin/python3 -m pip install [options] <requirement specifier> [package-index-options] ...\n",
      "  /Library/Frameworks/Python.framework/Versions/3.7/bin/python3 -m pip install [options] -r <requirements file> [package-index-options] ...\n",
      "  /Library/Frameworks/Python.framework/Versions/3.7/bin/python3 -m pip install [options] [-e] <vcs project url> ...\n",
      "  /Library/Frameworks/Python.framework/Versions/3.7/bin/python3 -m pip install [options] [-e] <local project path> ...\n",
      "  /Library/Frameworks/Python.framework/Versions/3.7/bin/python3 -m pip install [options] <archive url/path> ...\n",
      "\n",
      "ambiguous option: --py (--pypi-url, --python-version?)\n",
      "Note: you may need to restart the kernel to use updated packages.\n"
     ]
    }
   ],
   "source": [
    "pip install jupyter-serverextension --py egal"
   ]
  },
  {
   "cell_type": "code",
   "execution_count": 7,
   "metadata": {},
   "outputs": [
    {
     "name": "stdout",
     "output_type": "stream",
     "text": [
      "\n",
      "Usage:   \n",
      "  /Library/Frameworks/Python.framework/Versions/3.7/bin/python3 -m pip install [options] <requirement specifier> [package-index-options] ...\n",
      "  /Library/Frameworks/Python.framework/Versions/3.7/bin/python3 -m pip install [options] -r <requirements file> [package-index-options] ...\n",
      "  /Library/Frameworks/Python.framework/Versions/3.7/bin/python3 -m pip install [options] [-e] <vcs project url> ...\n",
      "  /Library/Frameworks/Python.framework/Versions/3.7/bin/python3 -m pip install [options] [-e] <local project path> ...\n",
      "  /Library/Frameworks/Python.framework/Versions/3.7/bin/python3 -m pip install [options] <archive url/path> ...\n",
      "\n",
      "ambiguous option: --py (--pypi-url, --python-version?)\n",
      "Note: you may need to restart the kernel to use updated packages.\n"
     ]
    }
   ],
   "source": [
    "pip install nbextension --py egal"
   ]
  },
  {
   "cell_type": "code",
   "execution_count": 10,
   "metadata": {},
   "outputs": [],
   "source": [
    "import jupyter\n",
    "import os\n",
    "import ipywidgets"
   ]
  },
  {
   "cell_type": "code",
   "execution_count": 2,
   "metadata": {},
   "outputs": [
    {
     "name": "stdout",
     "output_type": "stream",
     "text": [
      "\u001b[31mERROR: Could not find a version that satisfies the requirement jupyter-notebook (from versions: none)\u001b[0m\n",
      "\u001b[31mERROR: No matching distribution found for jupyter-notebook\u001b[0m\n",
      "Note: you may need to restart the kernel to use updated packages.\n"
     ]
    }
   ],
   "source": [
    "pip install jupyter-notebook"
   ]
  },
  {
   "cell_type": "raw",
   "metadata": {
    "hide_egal": false,
    "is_egal": true,
    "slideshow": {
     "slide_type": "slide"
    }
   },
   "source": [
    "<svg height=\"250\" width=\"100%\"><line x1=\"270.65625\" x2=\"352.65625\" y1=\"147.1875\" y2=\"7.1875\" stroke=\"#000000\" data-n1=\"drup_elem_3_endpoint_3\" class=\"connector egal-line\" style=\"marker-end: url(&quot;#arrowEndMarker&quot;);\"></line><desc>Created with Snap</desc><defs><filter id=\"Sk6x9uzbh3\" filterUnits=\"userSpaceOnUse\"><feGaussianBlur in=\"SourceAlpha\" stdDeviation=\"3\"></feGaussianBlur><feOffset dx=\"0\" dy=\"2\" result=\"offsetblur\"></feOffset><feFlood flood-color=\"#000000\"></feFlood><feComposite in2=\"offsetblur\" operator=\"in\"></feComposite><feComponentTransfer><feFuncA type=\"linear\" slope=\"1\"></feFuncA></feComponentTransfer><feMerge><feMergeNode></feMergeNode><feMergeNode in=\"SourceGraphic\"></feMergeNode></feMerge></filter><marker viewBox=\"0 0 10 10\" markerWidth=\"10\" markerHeight=\"10\" orient=\"auto\" refX=\"9\" refY=\"3\" id=\"arrowEndMarker\"><polygon points=\"0,0,0,6,9,3,0,0\" fill=\"#323232\" id=\"arrow\" style=\"\"></polygon></marker><marker viewBox=\"0 0 10 10\" markerWidth=\"10\" markerHeight=\"10\" orient=\"auto\" refX=\"0\" refY=\"3\" id=\"arrowStartMarker\"><polygon points=\"0,3,9,0,9,6,0,3\" fill=\"#323232\" id=\"startArrow\" style=\"\"></polygon></marker><filter id=\"Sk6x9uzbhjc\" filterUnits=\"userSpaceOnUse\"><feGaussianBlur in=\"SourceAlpha\" stdDeviation=\"3\"></feGaussianBlur><feOffset dx=\"0\" dy=\"2\" result=\"offsetblur\"></feOffset><feFlood flood-color=\"#000000\"></feFlood><feComposite in2=\"offsetblur\" operator=\"in\"></feComposite><feComponentTransfer><feFuncA type=\"linear\" slope=\"1\"></feFuncA></feComponentTransfer><feMerge><feMergeNode></feMergeNode><feMergeNode in=\"SourceGraphic\"></feMergeNode></feMerge></filter><marker viewBox=\"0 0 10 10\" markerWidth=\"10\" markerHeight=\"10\" orient=\"auto\" refX=\"9\" refY=\"3\" id=\"arrowEndMarker\"><polygon points=\"0,0,0,6,9,3,0,0\" fill=\"#323232\" id=\"arrow\" style=\"\"></polygon></marker><marker viewBox=\"0 0 10 10\" markerWidth=\"10\" markerHeight=\"10\" orient=\"auto\" refX=\"0\" refY=\"3\" id=\"arrowStartMarker\"><polygon points=\"0,3,9,0,9,6,0,3\" fill=\"#323232\" id=\"startArrow\" style=\"\"></polygon></marker><filter id=\"Sk6x9uzbhlq\" filterUnits=\"userSpaceOnUse\"><feGaussianBlur in=\"SourceAlpha\" stdDeviation=\"3\"></feGaussianBlur><feOffset dx=\"0\" dy=\"2\" result=\"offsetblur\"></feOffset><feFlood flood-color=\"#000000\"></feFlood><feComposite in2=\"offsetblur\" operator=\"in\"></feComposite><feComponentTransfer><feFuncA type=\"linear\" slope=\"1\"></feFuncA></feComponentTransfer><feMerge><feMergeNode></feMergeNode><feMergeNode in=\"SourceGraphic\"></feMergeNode></feMerge></filter><marker viewBox=\"0 0 10 10\" markerWidth=\"10\" markerHeight=\"10\" orient=\"auto\" refX=\"9\" refY=\"3\" id=\"arrowEndMarker\"><polygon points=\"0,0,0,6,9,3,0,0\" fill=\"#323232\" id=\"arrow\" style=\"\"></polygon></marker><marker viewBox=\"0 0 10 10\" markerWidth=\"10\" markerHeight=\"10\" orient=\"auto\" refX=\"0\" refY=\"3\" id=\"arrowStartMarker\"><polygon points=\"0,3,9,0,9,6,0,3\" fill=\"#323232\" id=\"startArrow\" style=\"\"></polygon></marker><filter id=\"Sk6x9uzbhvh\" filterUnits=\"userSpaceOnUse\"><feGaussianBlur in=\"SourceAlpha\" stdDeviation=\"3\"></feGaussianBlur><feOffset dx=\"0\" dy=\"2\" result=\"offsetblur\"></feOffset><feFlood flood-color=\"#000000\"></feFlood><feComposite in2=\"offsetblur\" operator=\"in\"></feComposite><feComponentTransfer><feFuncA type=\"linear\" slope=\"1\"></feFuncA></feComponentTransfer><feMerge><feMergeNode></feMergeNode><feMergeNode in=\"SourceGraphic\"></feMergeNode></feMerge></filter><marker viewBox=\"0 0 10 10\" markerWidth=\"10\" markerHeight=\"10\" orient=\"auto\" refX=\"9\" refY=\"3\" id=\"arrowEndMarker\"><polygon points=\"0,0,0,6,9,3,0,0\" fill=\"#323232\" id=\"arrow\" style=\"\"></polygon></marker><marker viewBox=\"0 0 10 10\" markerWidth=\"10\" markerHeight=\"10\" orient=\"auto\" refX=\"0\" refY=\"3\" id=\"arrowStartMarker\"><polygon points=\"0,3,9,0,9,6,0,3\" fill=\"#323232\" id=\"startArrow\" style=\"\"></polygon></marker><filter id=\"Sk6x9uzbhyn\" filterUnits=\"userSpaceOnUse\"><feGaussianBlur in=\"SourceAlpha\" stdDeviation=\"3\"></feGaussianBlur><feOffset dx=\"0\" dy=\"2\" result=\"offsetblur\"></feOffset><feFlood flood-color=\"#000000\"></feFlood><feComposite in2=\"offsetblur\" operator=\"in\"></feComposite><feComponentTransfer><feFuncA type=\"linear\" slope=\"1\"></feFuncA></feComponentTransfer><feMerge><feMergeNode></feMergeNode><feMergeNode in=\"SourceGraphic\"></feMergeNode></feMerge></filter><marker viewBox=\"0 0 10 10\" markerWidth=\"10\" markerHeight=\"10\" orient=\"auto\" refX=\"9\" refY=\"3\" id=\"arrowEndMarker\"><polygon points=\"0,0,0,6,9,3,0,0\" fill=\"#323232\" id=\"arrow\" style=\"\"></polygon></marker><marker viewBox=\"0 0 10 10\" markerWidth=\"10\" markerHeight=\"10\" orient=\"auto\" refX=\"0\" refY=\"3\" id=\"arrowStartMarker\"><polygon points=\"0,3,9,0,9,6,0,3\" fill=\"#323232\" id=\"startArrow\" style=\"\"></polygon></marker></defs><g id=\"drup_elem_1\" first-frame=\"1\" last-frame=\"1\" class=\"drupElem\"><text x=\"323.65625\" y=\"89.1875\" data-src=\"$$sum_i x i^4$$\" style=\"font-size: 20px; text-anchor: middle; alignment-baseline: central;\" class=\"egal-label sub\">$$sum_i x i^4$$</text></g><g id=\"drup_elem_2\" first-frame=\"1\" last-frame=\"1\" class=\"drupElem\"><text x=\"290.65625\" y=\"249.1875\" class=\"core alignable sub egal-label\" style=\"text-anchor: middle; alignment-baseline: central; font-size: 20px;\"></text></g><g id=\"drup_elem_3\" first-frame=\"1\" last-frame=\"1\" class=\"drupElem\"><circle cx=\"293.65625\" cy=\"101.1875\" r=\"0\" vector-effect=\"non-scaling-stroke\" fill=\"#ffffff\" stroke=\"#000000\" class=\"core alignable sub\" style=\"stroke-width: 1px;\"></circle><circle cx=\"293.65625\" cy=\"101.1875\" r=\"5\" stroke=\"#000000\" fill=\"#ffffff\" id=\"drup_elem_3_endpoint_0\" class=\"endPoint up sub\" style=\"stroke-width: 1px; opacity: 0;\"></circle><circle cx=\"293.65625\" cy=\"101.1875\" r=\"5\" stroke=\"#000000\" fill=\"#ffffff\" id=\"drup_elem_3_endpoint_1\" class=\"endPoint down sub\" style=\"stroke-width: 1px; opacity: 0;\"></circle><circle cx=\"293.65625\" cy=\"101.1875\" r=\"5\" stroke=\"#000000\" fill=\"#ffffff\" id=\"drup_elem_3_endpoint_2\" class=\"endPoint left sub\" style=\"stroke-width: 1px; opacity: 0;\"></circle><circle cx=\"293.65625\" cy=\"101.1875\" r=\"5\" stroke=\"#000000\" fill=\"#ffffff\" id=\"drup_elem_3_endpoint_3\" class=\"endPoint right sub\" style=\"stroke-width: 1px; opacity: 0;\"></circle><text x=\"293.65625\" y=\"101.1875\" style=\"font-size: 20px; text-anchor: middle; alignment-baseline: central; opacity: 0;\" class=\"egal-label sub\">|</text></g></svg>"
   ]
  },
  {
   "cell_type": "markdown",
   "metadata": {
    "hide_egal": false,
    "is_egal": true,
    "slideshow": {
     "slide_type": "-"
    }
   },
   "source": [
    "##<svg height=\"250\" width=\"100%\"><desc>Created with Snap</desc><defs><filter id=\"Sk6x9uzbhng\" filterUnits=\"userSpaceOnUse\"><feGaussianBlur in=\"SourceAlpha\" stdDeviation=\"3\"></feGaussianBlur><feOffset dx=\"0\" dy=\"2\" result=\"offsetblur\"></feOffset><feFlood flood-color=\"#000000\"></feFlood><feComposite in2=\"offsetblur\" operator=\"in\"></feComposite><feComponentTransfer><feFuncA type=\"linear\" slope=\"1\"></feFuncA></feComponentTransfer><feMerge><feMergeNode></feMergeNode><feMergeNode in=\"SourceGraphic\"></feMergeNode></feMerge></filter><marker viewBox=\"0 0 10 10\" markerWidth=\"10\" markerHeight=\"10\" orient=\"auto\" refX=\"9\" refY=\"3\" id=\"arrowEndMarker\"><polygon points=\"0,0,0,6,9,3,0,0\" fill=\"#323232\" id=\"arrow\" style=\"\"></polygon></marker><marker viewBox=\"0 0 10 10\" markerWidth=\"10\" markerHeight=\"10\" orient=\"auto\" refX=\"0\" refY=\"3\" id=\"arrowStartMarker\"><polygon points=\"0,3,9,0,9,6,0,3\" fill=\"#323232\" id=\"startArrow\" style=\"\"></polygon></marker></defs><g id=\"drup_elem_1\" first-frame=\"1\" last-frame=\"1\" class=\"drupElem egal-select\"><rect x=\"185.65625\" y=\"107.8125\" width=\"349\" height=\"121\" fill=\"#ffffff\" stroke=\"#000000\" vector-effect=\"non-scaling-stroke\" class=\"core alignable sub\" style=\"stroke-width: 1px;\" transform=\"matrix(1,0,0,1,29,-4)\"></rect><circle cx=\"360.15625\" cy=\"107.8125\" r=\"5\" stroke=\"#000000\" fill=\"#ffffff\" id=\"drup_elem_1_endpoint_0\" class=\"endPoint up sub\" style=\"stroke-width: 1px; opacity: 0;\" transform=\"matrix(1,0,0,1,29,-4)\"></circle><circle cx=\"360.15625\" cy=\"228.8125\" r=\"5\" stroke=\"#000000\" fill=\"#ffffff\" id=\"drup_elem_1_endpoint_1\" class=\"endPoint down sub\" style=\"stroke-width: 1px; opacity: 0;\" transform=\"matrix(1,0,0,1,29,-4)\"></circle><circle cx=\"185.65625\" cy=\"168.3125\" r=\"5\" stroke=\"#000000\" fill=\"#ffffff\" id=\"drup_elem_1_endpoint_2\" class=\"endPoint left sub\" style=\"stroke-width: 1px; opacity: 0;\" transform=\"matrix(1,0,0,1,29,-4)\"></circle><circle cx=\"534.65625\" cy=\"168.3125\" r=\"5\" stroke=\"#000000\" fill=\"#ffffff\" id=\"drup_elem_1_endpoint_3\" class=\"endPoint right sub\" style=\"stroke-width: 1px; opacity: 0;\" transform=\"matrix(1,0,0,1,29,-4)\"></circle><circle cx=\"185.65625\" cy=\"107.8125\" r=\"5\" stroke=\"#000000\" fill=\"#ffffff\" id=\"drup_elem_1_endpoint_4\" class=\"endPoint left-up sub\" style=\"stroke-width: 1px; opacity: 0;\" transform=\"matrix(1,0,0,1,29,-4)\"></circle><circle cx=\"185.65625\" cy=\"228.8125\" r=\"5\" stroke=\"#000000\" fill=\"#ffffff\" id=\"drup_elem_1_endpoint_5\" class=\"endPoint left-down sub\" style=\"stroke-width: 1px; opacity: 0;\" transform=\"matrix(1,0,0,1,29,-4)\"></circle><circle cx=\"534.65625\" cy=\"107.8125\" r=\"5\" stroke=\"#000000\" fill=\"#ffffff\" id=\"drup_elem_1_endpoint_6\" class=\"endPoint right-up sub\" style=\"stroke-width: 1px; opacity: 0;\" transform=\"matrix(1,0,0,1,29,-4)\"></circle><circle cx=\"534.65625\" cy=\"228.8125\" r=\"5\" stroke=\"#000000\" fill=\"#ffffff\" id=\"drup_elem_1_endpoint_7\" class=\"endPoint right-down sub\" style=\"stroke-width: 1px; opacity: 0;\" transform=\"matrix(1,0,0,1,29,-4)\"></circle><text x=\"360.15625\" y=\"168.3125\" style=\"font-size: 20px; text-anchor: middle; alignment-baseline: central; opacity: 0;\" class=\"egal-label sub\" transform=\"matrix(1,0,0,1,29,-4)\">|</text></g><g id=\"drup_elem_2\" first-frame=\"1\" last-frame=\"1\" class=\"drupElem\"><text x=\"240.65625\" y=\"164.8125\" class=\"core alignable sub egal-label\" style=\"text-anchor: middle; alignment-baseline: central;\"></text></g><g id=\"drup_elem_3\" first-frame=\"1\" last-frame=\"1\" class=\"drupElem\"><text x=\"167.65625\" y=\"182.8125\" class=\"core alignable sub egal-label\" style=\"text-anchor: middle; alignment-baseline: central;\"></text></g><g id=\"drup_elem_4\" first-frame=\"1\" last-frame=\"1\" class=\"drupElem\"><text x=\"195.65625\" y=\"187.8125\" class=\"core alignable sub egal-label\" style=\"text-anchor: middle; alignment-baseline: central; font-size: 20px;\"></text></g><g id=\"drup_elem_5\" first-frame=\"1\" last-frame=\"1\" class=\"drupElem\"><text x=\"388.65625\" y=\"163.8125\" class=\"core alignable sub egal-label\" data-src=\"##x^2(Pn^y^^2)##.\" style=\"text-anchor: middle; alignment-baseline: central; font-size: 20px; visibility: visible; opacity: 1;\" transform=\"matrix(1,0,0,1,0,0)\">##x^2(Pn^y^^2)##.</text></g></svg>##"
   ]
  },
  {
   "cell_type": "markdown",
   "metadata": {
    "slideshow": {
     "slide_type": "slide"
    }
   },
   "source": [
    "$$x2 * 2x^3$$"
   ]
  },
  {
   "cell_type": "code",
   "execution_count": null,
   "metadata": {},
   "outputs": [],
   "source": []
  }
 ],
 "metadata": {
  "celltoolbar": "Slideshow",
  "kernelspec": {
   "display_name": "Python 3",
   "language": "python",
   "name": "python3"
  },
  "language_info": {
   "codemirror_mode": {
    "name": "ipython",
    "version": 3
   },
   "file_extension": ".py",
   "mimetype": "text/x-python",
   "name": "python",
   "nbconvert_exporter": "python",
   "pygments_lexer": "ipython3",
   "version": "3.7.4"
  },
  "widgets": {
   "application/vnd.jupyter.widget-state+json": {
    "state": {},
    "version_major": 2,
    "version_minor": 0
   }
  }
 },
 "nbformat": 4,
 "nbformat_minor": 2
}
