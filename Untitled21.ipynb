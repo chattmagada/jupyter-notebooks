{
 "cells": [
  {
   "cell_type": "code",
   "execution_count": 1,
   "metadata": {},
   "outputs": [
    {
     "data": {
      "text/plain": [
       "'/Users/gerrychattman'"
      ]
     },
     "execution_count": 1,
     "metadata": {},
     "output_type": "execute_result"
    }
   ],
   "source": [
    "pwd\n"
   ]
  },
  {
   "cell_type": "code",
   "execution_count": 2,
   "metadata": {},
   "outputs": [
    {
     "name": "stdout",
     "output_type": "stream",
     "text": [
      "Collecting mkdocs-material\n",
      "  Downloading mkdocs_material-4.6.3-py2.py3-none-any.whl (723 kB)\n",
      "\u001b[K     |████████████████████████████████| 723 kB 541 kB/s eta 0:00:01\n",
      "\u001b[?25hRequirement already satisfied: markdown>=3.2 in /Library/Frameworks/Python.framework/Versions/3.7/lib/python3.7/site-packages (from mkdocs-material) (3.2.1)\n",
      "Requirement already satisfied: Pygments>=2.4 in /Library/Frameworks/Python.framework/Versions/3.7/lib/python3.7/site-packages (from mkdocs-material) (2.4.2)\n",
      "Requirement already satisfied: mkdocs>=1.0 in /Library/Frameworks/Python.framework/Versions/3.7/lib/python3.7/site-packages (from mkdocs-material) (1.1)\n",
      "Collecting pymdown-extensions>=6.3\n",
      "  Downloading pymdown_extensions-6.3-py2.py3-none-any.whl (198 kB)\n",
      "\u001b[K     |████████████████████████████████| 198 kB 6.2 MB/s eta 0:00:01\n",
      "\u001b[?25hRequirement already satisfied: setuptools>=36 in /Library/Frameworks/Python.framework/Versions/3.7/lib/python3.7/site-packages (from markdown>=3.2->mkdocs-material) (41.2.0)\n",
      "Requirement already satisfied: PyYAML>=3.10 in /Library/Frameworks/Python.framework/Versions/3.7/lib/python3.7/site-packages (from mkdocs>=1.0->mkdocs-material) (5.1.2)\n",
      "Requirement already satisfied: click>=3.3 in /Library/Frameworks/Python.framework/Versions/3.7/lib/python3.7/site-packages (from mkdocs>=1.0->mkdocs-material) (7.0)\n",
      "Requirement already satisfied: lunr[languages]==0.5.6 in /Library/Frameworks/Python.framework/Versions/3.7/lib/python3.7/site-packages (from mkdocs>=1.0->mkdocs-material) (0.5.6)\n",
      "Requirement already satisfied: livereload>=2.5.1 in /Library/Frameworks/Python.framework/Versions/3.7/lib/python3.7/site-packages (from mkdocs>=1.0->mkdocs-material) (2.6.1)\n",
      "Requirement already satisfied: tornado>=5.0 in /Library/Frameworks/Python.framework/Versions/3.7/lib/python3.7/site-packages (from mkdocs>=1.0->mkdocs-material) (6.0.3)\n",
      "Requirement already satisfied: Jinja2>=2.10.1 in /Library/Frameworks/Python.framework/Versions/3.7/lib/python3.7/site-packages (from mkdocs>=1.0->mkdocs-material) (2.10.1)\n",
      "Requirement already satisfied: future>=0.16.0 in /Library/Frameworks/Python.framework/Versions/3.7/lib/python3.7/site-packages (from lunr[languages]==0.5.6->mkdocs>=1.0->mkdocs-material) (0.18.2)\n",
      "Requirement already satisfied: six>=1.11.0 in /Library/Frameworks/Python.framework/Versions/3.7/lib/python3.7/site-packages (from lunr[languages]==0.5.6->mkdocs>=1.0->mkdocs-material) (1.12.0)\n",
      "Requirement already satisfied: nltk>=3.2.5; extra == \"languages\" in /Library/Frameworks/Python.framework/Versions/3.7/lib/python3.7/site-packages (from lunr[languages]==0.5.6->mkdocs>=1.0->mkdocs-material) (3.4.5)\n",
      "Requirement already satisfied: MarkupSafe>=0.23 in /Library/Frameworks/Python.framework/Versions/3.7/lib/python3.7/site-packages (from Jinja2>=2.10.1->mkdocs>=1.0->mkdocs-material) (1.1.1)\n",
      "Installing collected packages: pymdown-extensions, mkdocs-material\n",
      "Successfully installed mkdocs-material-4.6.3 pymdown-extensions-6.3\n",
      "Note: you may need to restart the kernel to use updated packages.\n"
     ]
    }
   ],
   "source": [
    "pip install mkdocs-material"
   ]
  },
  {
   "cell_type": "code",
   "execution_count": null,
   "metadata": {},
   "outputs": [],
   "source": []
  }
 ],
 "metadata": {
  "kernelspec": {
   "display_name": "Python 3",
   "language": "python",
   "name": "python3"
  },
  "language_info": {
   "codemirror_mode": {
    "name": "ipython",
    "version": 3
   },
   "file_extension": ".py",
   "mimetype": "text/x-python",
   "name": "python",
   "nbconvert_exporter": "python",
   "pygments_lexer": "ipython3",
   "version": "3.7.4"
  }
 },
 "nbformat": 4,
 "nbformat_minor": 2
}
